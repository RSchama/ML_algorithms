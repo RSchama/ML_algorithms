{
 "cells": [
  {
   "cell_type": "markdown",
   "id": "ae8d8c22",
   "metadata": {},
   "source": [
    "# Logistic Regression with Gradient Ascent from Scratch #\n",
    "\n",
    "This notebook contains my implementation of the logistic regression with a gradient Ascent. I have also left the simple code `.py` file in the `code` folder, hoping that it it might be easier to imporve the code with `git`. So, I expect that at some point this notebook might be deprecated, and will be be used mostly as a tutorial.  \n",
    "\n",
    "Logistic regression is analogous to multiple linear regression, except the outcome is binary (0/1). There is also no closed form solution, and the model is fit using Maximum Likelihood Estimation (MLE). With MLE we are trying to find the model that most likely produced the data we see. I will talk more about the steps we need to take when we start building our algorithm.   \n",
    "\n",
    "Logistic Regression is used for classification, which is a very important task in Machine Learning. It is part of the Supervised Learning techniques, where we use part of the known data to to learn the best model and parameters that fit our data. The known data comes as pairs of inputs ($X$) and outputs ($y$) to be able to train a model, and it is used in many applications. \n",
    "\n",
    "So, we have an input with its attribute set (variables) and we use the classification algorithm to learn how to assign class labels to these examples.  \n",
    "\n",
    "Classification is a form of prediction where the goal is to predict the class labels, whether if it is binary or multiclass. In this example we will use the UCI Machine Learning Repository [Gisette](https://archive.ics.uci.edu/ml/datasets/Gisette) dataset. This dataset is a handwritten digit problem, where we want to separate the highly confusible digits '4' and '9', and it was constructed from the well known MNIST dataset. Since we only want to discriminate between '4' and '9', this is a binary classification problem.  \n",
    "\n",
    "***\n",
    "\n",
    "### Train and validation sets ###\n",
    "\n",
    "In order to be able to see how good our model is we need to have samples for training it and another set of samples, not \"seen\" by the model, to infer how well it generalizes to unseen data. Normally we would use `sklearn` `train_test_split` to split our data into train and test sets (or use cross-validation). Nevertheless, Gisette, as part of a competition dataset, already has separate sets for training the model (called `gisette_train.data` and `gisette_train.labels`) and a separate set for testing, or validating it (called `gisette_valid.data` and `gisette_valid.labels`).  \n",
    "\n",
    "***\n",
    "\n",
    "### Libraries needed ###\n",
    "\n",
    "This tutorial makes use of varying python libraries at each step. All libraries used are imported in this first step for clarity purposes and to show what requirements are needed at the beginning. Let's import the python libraries we will need:"
   ]
  },
  {
   "cell_type": "code",
   "execution_count": 15,
   "id": "5a16d78b",
   "metadata": {},
   "outputs": [],
   "source": [
    "import numpy as np\n",
    "import pandas as pd\n",
    "import numpy.matlib\n",
    "from sklearn.metrics import accuracy_score\n",
    "import math\n",
    "from sklearn import preprocessing\n",
    "import matplotlib.pyplot as plt\n",
    "from datetime import datetime"
   ]
  },
  {
   "cell_type": "markdown",
   "id": "da7affde",
   "metadata": {},
   "source": [
    "***\n",
    "### Data ###\n",
    "\n",
    "Gisette is composed of a training set with a $\\mathbb{R}^{6000 \\times5000}$ data matrix and $\\mathbb{R}^{6000}$ vector of target labels and a validation set with a $\\mathbb{R}^{1000 \\times 5000}$ data matrix and $\\mathbb{R}^{1000}$ vector of target labels.  \n",
    "\n",
    "We will have two data matrices: X_train and X_test, which later we will call `x` and `xtest` to make writting the code easier. Each will have their own labels: y_train and y_test, which we will call `y` and `ytest` later on.   \n",
    "\n",
    "Let's load our data! The code below will open the files from the UCI website directly and not download them:"
   ]
  },
  {
   "cell_type": "code",
   "execution_count": 25,
   "id": "d52382b8",
   "metadata": {},
   "outputs": [],
   "source": [
    "#importing the data\n",
    "url1 = \"https://archive.ics.uci.edu/ml/machine-learning-databases/gisette/GISETTE/gisette_train.data\"\n",
    "X_train = np.asarray(pd.read_csv(url1 , header=None, delim_whitespace=True))\n",
    "url2 = 'https://archive.ics.uci.edu/ml/machine-learning-databases/gisette/GISETTE/gisette_train.labels'\n",
    "y_train = np.asarray(pd.read_csv(url2 , header=None, delim_whitespace=True)).squeeze()\n",
    "url3 = 'https://archive.ics.uci.edu/ml/machine-learning-databases/gisette/GISETTE/gisette_valid.data'\n",
    "X_test = np.asarray(pd.read_csv(url3 , header=None, delim_whitespace=True))\n",
    "url4 = 'https://archive.ics.uci.edu/ml/machine-learning-databases/gisette/gisette_valid.labels'\n",
    "y_test = np.asarray(pd.read_csv(url4 , header=None, delim_whitespace=True)).squeeze()"
   ]
  },
  {
   "cell_type": "markdown",
   "id": "c2ccfe4f",
   "metadata": {},
   "source": [
    "I find it is always important to print the size of our data matrices:"
   ]
  },
  {
   "cell_type": "code",
   "execution_count": 26,
   "id": "9f2e9c20",
   "metadata": {},
   "outputs": [
    {
     "name": "stdout",
     "output_type": "stream",
     "text": [
      "(6000, 5000) (1000, 5000) (6000,) (1000,)\n"
     ]
    }
   ],
   "source": [
    "#printing the size of each ndarray\n",
    "print(X_train.shape, X_test.shape, y_train.shape, y_test.shape)"
   ]
  },
  {
   "cell_type": "markdown",
   "id": "70f87eda",
   "metadata": {},
   "source": [
    "***\n",
    "### Scaling and normalizing data ###\n",
    "\n",
    "Normaly it is good practice to check our data variables' distribution and scale. When we have variables with extremely different scales the ones with higher values will have more weight and might bias the analysis. So we can normalize the data to change the values of numeric columns in the dataset to a common scale, without distorting differences in the ranges of values. We would have all variables now with ranges between 0 and 1. Or, when we have a variable with normal disribution, we can standardize the data by subtracting the mean and dividing by the standard deviation in order to have all attributes to have mean 0 and 1 standard deviation. This is useful when your data has varying scales and the algorithm you are using does make assumptions about your data having a Gaussian distribution. In fact, many Machine Learning agorithms assume that all features are centered around 0 and have variance in the same order.\n",
    "\n",
    "Although stardization os not required for logistic regression, it certainly helps convergence, especially because the algorithm does assume a linear distribution of variables.  \n",
    "\n",
    "We will use `sklearn` [preprocessing](https://scikit-learn.org/stable/modules/generated/sklearn.preprocessing.StandardScaler.html) to normalize the data matrices: Standardize features by removing the mean and scaling to unit variance. It is important to remember to `fit` only to the train data in order to prevent data leakage problems. Mean and standard deviation are then stored to be used on later data using `tranform`."
   ]
  },
  {
   "cell_type": "code",
   "execution_count": 27,
   "id": "9fcaa0ea",
   "metadata": {},
   "outputs": [],
   "source": [
    "scaler = preprocessing.StandardScaler()\n",
    "x=scaler.fit_transform(X_train)\n",
    "xtest=scaler.transform(X_test)"
   ]
  },
  {
   "cell_type": "markdown",
   "id": "3afa3f66",
   "metadata": {},
   "source": [
    "***\n",
    "### Preparing our data matrix ###\n",
    "\n",
    "In order to be able to consider the $\\beta_0$, or bias term, and keep it when we update our parameters, we need to input a column of ones (neutral value) to our data matrices. The code below creates a `numpy` 1-dimensional array of ones the same size as the number of rows in our datasets. We use this vector of ones of the correct size and insert it into our data matrix as the first column (index = 0)."
   ]
  },
  {
   "cell_type": "code",
   "execution_count": 28,
   "id": "e62cbabb",
   "metadata": {},
   "outputs": [],
   "source": [
    "#adding a column of ones do dataset, as a numpy array\n",
    "#creating a vector of N 1s for train data 6000 and test 1000\n",
    "ones=np.ones((6000,), dtype=int)\n",
    "x = np.insert(x, 0, ones, axis=1)\n",
    "#For the test set as well\n",
    "ones=np.ones((1000,), dtype=int)\n",
    "xtest = np.insert(xtest, 0, ones, axis=1)"
   ]
  },
  {
   "cell_type": "markdown",
   "id": "34ec30ed",
   "metadata": {},
   "source": [
    "***\n",
    "### Preparing our labels vector ###\n",
    "\n",
    "The logistic function that we use to transform our MLE of the probability _p_ that the label is \"1\" ensures that this number stays between 0 and 1. In order to fit our model we need to compare the resutls that we get at each iteration to the true label vector for our data, so we can correct the parameters and keep going in the right direction with our gradient ascent.  \n",
    "\n",
    "For this reason our label vectors (`y_train` and `y_test`) need to be in a 0 or 1 format. For some datasets that I have encoutered, this label vector is -1 and 1, and we need to convert the -1 to 0. The code below does just that:"
   ]
  },
  {
   "cell_type": "code",
   "execution_count": 29,
   "id": "27d783c7",
   "metadata": {},
   "outputs": [],
   "source": [
    "#Changing -1 to 0 in labels (y)\n",
    "y=np.where(y_train == -1, 0, y_train)\n",
    "ytest=np.where(y_test == -1, 0, y_test)"
   ]
  },
  {
   "cell_type": "markdown",
   "id": "ae33f6f3",
   "metadata": {},
   "source": [
    "***\n",
    "### Defining the functions we will need ###\n",
    "\n",
    "For this algorithm we will need three different functions, two would have suficed but I wanted the derivative term calculated separately. The `likelihood` function calculates the lieklihood of the model with the parameters used ($\\beta_0, \\beta_1, ...,\\beta_p $), here a vector called $w$. Where $p$ is the number of features in our dataset (here 5000). If we have $j = 1, ..., N$ number of observations;\n",
    "\n",
    "We calculate the log odds for the logistic regression as:\n",
    "\n",
    "$$log\\Bigg(\\frac{P(y_j = 1)}{P(y_j = 0)}\\Bigg) = \\beta_0 + \\beta_1x_{j1} + ... + \\beta_{5000}x_{j5000}$$\n",
    "\n",
    "We start with a parameter vector $w=[0,0,...,0]$, and calculate the log-likelihood of the parameters at $t$ iteration with:\n",
    "\n",
    "$$L(w^{(t)}) = \\sum \\limits _{j=1} ^{N} y_j(x_j w^{(t)}) -ln(1 + exp(x_jw^{(t)})$$\n",
    "\n",
    "This tells us how good we are doing at iteration $t$. We want to maximize the likelihood (make it smaller), so we compute $w^{(t)}$ for many iterations, and when we don’t see improvements on the $L(w^{(t)})$ we stop.  \n",
    "\n",
    "The `derivative_func` function calculates the derivative to be used in the update function of the parameters vector ($w$). The `update_w` function updates the vector $w$ of parameters based on the derivative at each iteration:  \n",
    "\n",
    "$$w^{(t+1)} = w^{(t)} - \\eta \\lambda w^{(t)} + \\frac{\\eta}{N} \\frac{\\partial L}{\\partial w}$$\n",
    "\n",
    "There are two important constants to consider: $\\eta$ and $\\lambda$. Both will affect the convergence of the algorithm and we should play around a little to choose good values. We are going to use a learning rate $\\eta$ such that the log-likelihood converges in about 300 iterations and is monotonically increasing. And shrinkage ($\\lambda$) of 0.0001."
   ]
  },
  {
   "cell_type": "code",
   "execution_count": 9,
   "id": "c8bdf30b",
   "metadata": {},
   "outputs": [],
   "source": [
    "###########Functions used ################\n",
    "#Likelihood function\n",
    "def likelihood(wt,x,y):\n",
    "    L=0\n",
    "    for j in range(N):\n",
    "        L+=y[j]*np.dot(x[j,],wt) - math.log(1 + math.exp(np.dot(x[j,],wt)))\n",
    "    #print(np.dot(x[j,],wt))\n",
    "    return(-1*L)\n",
    "\n",
    "#derivative function\n",
    "def derivative_func(wt,x,y):\n",
    "    derivative = [0]*p\n",
    "    for j in range(N):\n",
    "        dot_product=np.dot(x[j,],wt)\n",
    "        parenthesis=y[j] - math.exp(dot_product)/(1 + math.exp(dot_product))\n",
    "        for k in range(p):\n",
    "            derivative[k] += x[j,k] * parenthesis\n",
    "    return(derivative)\n",
    "\n",
    "#update w function\n",
    "def update_w(wt,derivative):\n",
    "    derivative_term = [i * (n/N) for i in derivative]\n",
    "    wt_next = wt - n*l*wt + derivative_term\n",
    "    return(wt_next)\n",
    "    \n",
    "##########################################"
   ]
  },
  {
   "cell_type": "markdown",
   "id": "33d4b914",
   "metadata": {},
   "source": [
    "***\n",
    "### Defining parmeters we know ###\n",
    "\n",
    "As we can see from the function definitions above we need some parameters to be able to start our algorithm. We need an initial $w$ vector (called wt in the functions), that we initialize as a vector of zeros. We also need to know the number of observations $N$ and features $p$, and we can take that from the `.shape` attribute of the dataset. We also need to know the value of $\\lambda$ (called l, for lambda, in the functions), that we determined to be 0.0001 here. The value of $\\eta$ (called n in the functions), that we estimate by runing the algorithm a few times with 300 iterations and looking at the convergence plot of the log-likelihood through the iterations as depicted further down. We also need the number of iterations that we want to run the agorotihm for. For this dataset 300 seem to work well.  \n"
   ]
  },
  {
   "cell_type": "code",
   "execution_count": 30,
   "id": "61bb5fec",
   "metadata": {},
   "outputs": [
    {
     "name": "stdout",
     "output_type": "stream",
     "text": [
      "These are the parameters we know:\n",
      "Number of observations (N): 6000, \n",
      "Number of Features (p): 5001, \n",
      "Number of iterations: 300, \n",
      "Shrinkage (l): 0.0001, \n",
      "Learning Rate (n): 0.2\n"
     ]
    }
   ],
   "source": [
    "#defining the parameters needed\n",
    "#lambda\n",
    "l=0.0001\n",
    "#Number of observations N and features p\n",
    "N, p =x.shape\n",
    "#Eta\n",
    "n=0.2\n",
    "#Number of iterations\n",
    "iterations=300\n",
    "new_line = \"\\n\"\n",
    "print(f\"These are the parameters we know:{new_line}Number of observations (N): {N}, {new_line}Number of Features (p): {p}, {new_line}Number of iterations: {iterations}, {new_line}Shrinkage (l): {l}, {new_line}Learning Rate (n): {n}\")\n"
   ]
  },
  {
   "cell_type": "markdown",
   "id": "5686a84f",
   "metadata": {},
   "source": [
    "***\n",
    "### Runing the Algorithm ###\n",
    "\n",
    "Now that we have defined our functions and constants we need to get our agorithm to run a few iterations to get a good estimate of the parameters. We are fitting (or training) the model to our training data and estimating the coeficient vector $w$ that best fits our data to be used for our predictions. Below we run the algorithm for a specific number of iterations and print the iteration number and log-likelihood of the paramaters every tenth iteration. We stop when we do not see much improvement. Be patient, or get the number of iterations to be small (it might not converge though) because this takes a few minutes to run (~38, with my puny laptop)!"
   ]
  },
  {
   "cell_type": "code",
   "execution_count": 12,
   "id": "595d62a6",
   "metadata": {},
   "outputs": [
    {
     "name": "stdout",
     "output_type": "stream",
     "text": [
      "iteration = 0, L = 4158.883083360076\n",
      "iteration = 10, L = 392.25249531334714\n",
      "iteration = 20, L = 272.19416558135566\n",
      "iteration = 30, L = 208.63158514942185\n",
      "iteration = 40, L = 168.35048743777497\n",
      "iteration = 50, L = 140.69403542941785\n",
      "iteration = 60, L = 120.72412056960923\n",
      "iteration = 70, L = 105.69151257350022\n",
      "iteration = 80, L = 93.9885566546067\n",
      "iteration = 90, L = 84.62618832208136\n",
      "iteration = 100, L = 76.96759486303631\n",
      "iteration = 110, L = 70.58670112099398\n",
      "iteration = 120, L = 65.18840314180301\n",
      "iteration = 130, L = 60.561985394228834\n",
      "iteration = 140, L = 56.55298097176521\n",
      "iteration = 150, L = 53.04556910345991\n",
      "iteration = 160, L = 49.95119419784829\n",
      "iteration = 170, L = 47.20098558641116\n",
      "iteration = 180, L = 44.74057463451263\n",
      "iteration = 190, L = 42.526468298593905\n",
      "iteration = 200, L = 40.52345942960001\n",
      "iteration = 210, L = 38.702743565418324\n",
      "iteration = 220, L = 37.04052704152707\n",
      "iteration = 230, L = 35.51698306555399\n",
      "iteration = 240, L = 34.11545831255669\n",
      "iteration = 250, L = 32.82186259424604\n",
      "iteration = 260, L = 31.62419414368017\n",
      "iteration = 270, L = 30.512166616857996\n",
      "iteration = 280, L = 29.476913263121105\n",
      "iteration = 290, L = 28.51075026135134\n",
      "Duration: 0:37:55.429315\n"
     ]
    }
   ],
   "source": [
    "#time stamp\n",
    "start_time = datetime.now()\n",
    "\n",
    "#Runing the algorithm\n",
    "#Initializing vector w at time zero\n",
    "W=np.zeros((p,), dtype=int)\n",
    "#Initialize a list to store the log-likelihood values\n",
    "L=[]\n",
    "#run the algorithm for a specific number of iterations\n",
    "for t in range(iterations):\n",
    "    Lt=likelihood(W,x,y)\n",
    "    D = derivative_func(W,x,y)\n",
    "    W =update_w(W,D)\n",
    "    L.append(Lt)\n",
    "    if t % 10 == 0: \n",
    "        print(\"iteration = {}, L = {}\".format(t, Lt))\n",
    "\n",
    "#more time stamp\n",
    "end_time = datetime.now()\n",
    "print('Duration: {}'.format(end_time - start_time))"
   ]
  },
  {
   "cell_type": "markdown",
   "id": "85210df6",
   "metadata": {},
   "source": [
    "***\n",
    "### Plot of the Log-Likelihood at each iteration ###\n",
    "\n",
    "To be able to see if our model has converged we need to plot the Log-likelihood at each iteration and inspect the plot for a plateau (where we do not see much improvement). The code below uses `pyplot` to achieve this in a simple way. We also save the plot in a `.jpeg` file for further use. When finding a good learning rate ($\\eta$) I ran the agorithm several times with different values of $\\eta$ and chose the one that performed best in 300 iterations. We can play around with both $\\eta$ and $\\lambda$ to improve convergence of the mdoel."
   ]
  },
  {
   "cell_type": "code",
   "execution_count": 13,
   "id": "6aa9391a",
   "metadata": {},
   "outputs": [
    {
     "data": {
      "image/png": "[encoded data removed]",
      "text/plain": [
       "<Figure size 432x288 with 1 Axes>"
      ]
     },
     "metadata": {
      "needs_background": "light"
     },
     "output_type": "display_data"
    }
   ],
   "source": [
    "#preparing the iteration to look good as X label for the plot (from 1 to 300)\n",
    "it=list(range(1,(iterations+1)))\n",
    "#preparing to plot\n",
    "fig, ax = plt.subplots()\n",
    "ax.autoscale()\n",
    "plt.title(\"Log-likelihood at each iteration - 0.2 Learning Rate\")\n",
    "plt.xlabel(\"Iteration number\")\n",
    "plt.ylabel(\"-1(Log-likelihood)\")\n",
    "plt.plot(it,L)\n",
    "#ploting here in the notebook\n",
    "plt.show()\n",
    "#saving the plot to a .jpeg file\n",
    "fig.savefig(\"plot.jpeg\")"
   ]
  },
  {
   "cell_type": "markdown",
   "id": "fc259f2a",
   "metadata": {},
   "source": [
    "***\n",
    "### Making predictions ###\n",
    "\n",
    "Now that we have the best parameters ($w$) for our data we can use this vector to make classification predictions of our datasets. We can use both train and test sets, but be mindful that we estimated these parameters using the train set and therefore should expect the error estimates on that set to be smaller, if not zero! The real value of our model is evaluated with small error estimates on the test set, or unseen data!\n",
    "\n",
    "We make predictions and then calculate the misclassification error using `sklearn` accuracy_score function. "
   ]
  },
  {
   "cell_type": "code",
   "execution_count": 16,
   "id": "2e3281d4",
   "metadata": {},
   "outputs": [
    {
     "name": "stdout",
     "output_type": "stream",
     "text": [
      "Misclassification error for train data is 0.0, and for test data is 0.028000000000000025\n"
     ]
    }
   ],
   "source": [
    "#Predicting and geting misclassification errors for train and test datasets\n",
    "#Train set: x, y\n",
    "#creating a list to store the predictions\n",
    "y_predict = []\n",
    "#transforming our prediction probabilities to 0 and 1\n",
    "for row in x:\n",
    "    score=np.dot(W,row)\n",
    "    prob=math.exp(score) / 1+math.exp(score) #probability that observation in row is 1\n",
    "    if (prob < 0.5):\n",
    "        y_predict.append(0)\n",
    "    else:\n",
    "        y_predict.append(1)\n",
    "#calculating the misclassification error as 1 - accuracy score\n",
    "error = 1 - accuracy_score(y,y_predict)\n",
    "    \n",
    "#Test set: xtest, ytest\n",
    "ytest_predict = []\n",
    "for row in xtest:\n",
    "    score=np.dot(W,row)\n",
    "    prob=math.exp(score) / 1+math.exp(score) #probability that observation in row is 1\n",
    "    if (prob < 0.5):\n",
    "        ytest_predict.append(0)\n",
    "    else:\n",
    "        ytest_predict.append(1)\n",
    "\n",
    "error_test = 1 - accuracy_score(ytest,ytest_predict)\n",
    "\n",
    "print(\"Misclassification error for train data is {}, and for test data is {}\".format(error, error_test))"
   ]
  },
  {
   "cell_type": "markdown",
   "id": "a41badcf",
   "metadata": {},
   "source": [
    "***\n",
    "## Using the Logit library ##\n",
    "\n",
    "In this folder there is a file called `LogitFunctions.py` that cotains all the code above inside defined functions. We can use this file to run the Logistic Regression algorithm as shown below. We just need to import the Module/library as we do so many others and use the functions. There is already some difference from the functions above to the definitions in the file, since to run as a library all of the functions needed to work together, but all calculations are the same. Here we need only call the `logit_algorithm` function with the parameters needed:  \n",
    "\n",
    "- $X$ data matrix, \n",
    "- $y$ vector of labels, \n",
    "- $\\eta$, \n",
    "- $\\lambda$ and \n",
    "- number of iterations we want.  \n",
    "\n",
    "To see how well our model works on unseen data we just need to call the `y_predict` function with the following parameters:  \n",
    "- $X$ test data matrix, \n",
    "- $y$ test label vector and \n",
    "- the $w$ vector of coeficients that we get from our algorithm function.  \n",
    "\n",
    "The algorithm function also returns a list with all the log-likelihood scores from each iteration step that we can use to make a plot as we did before.  \n",
    "\n",
    "One interesting feature of jupyter is that we can always start writing the name of the function we want and use `tab` to autocomplete it (after importing the module). And we can use `shift-tab` to get the function's docstrings, if we do that for `logit_algorithm` we can see which arguments it takes and if we click on the `+` button we can see everything. It is always good to be sure what are the values the function returns and plan your variables accordingly."
   ]
  },
  {
   "cell_type": "code",
   "execution_count": 22,
   "id": "4c662716",
   "metadata": {},
   "outputs": [
    {
     "name": "stdout",
     "output_type": "stream",
     "text": [
      "iteration = 0, L = 4158.883083360076\n",
      "iteration = 10, L = 298.1320360493172\n",
      "iteration = 20, L = 191.83915775116174\n",
      "iteration = 30, L = 142.18581498288688\n",
      "iteration = 40, L = 112.90963140039368\n",
      "iteration = 50, L = 93.8669569368013\n",
      "iteration = 60, L = 80.43637228767415\n",
      "iteration = 70, L = 70.41814059457396\n",
      "iteration = 80, L = 62.6437023493224\n",
      "iteration = 90, L = 56.430081641771466\n",
      "iteration = 100, L = 51.348315455384544\n",
      "iteration = 110, L = 47.11425612162519\n",
      "iteration = 120, L = 43.53182429557356\n",
      "iteration = 130, L = 40.46120401742599\n",
      "iteration = 140, L = 37.79996030160878\n",
      "iteration = 150, L = 35.47130764061242\n",
      "iteration = 160, L = 33.416545371175886\n",
      "iteration = 170, L = 31.590025148835135\n",
      "iteration = 180, L = 29.95571211119874\n",
      "iteration = 190, L = 28.484779667544508\n",
      "iteration = 200, L = 27.153892394439822\n",
      "iteration = 210, L = 25.943957655915025\n",
      "iteration = 220, L = 24.83920308960691\n",
      "iteration = 230, L = 23.826484817954526\n",
      "iteration = 240, L = 22.894761734555406\n",
      "iteration = 250, L = 22.0346911301482\n",
      "iteration = 260, L = 21.23831418847323\n",
      "iteration = 270, L = 20.498808879015872\n",
      "iteration = 280, L = 19.81029397578064\n",
      "iteration = 290, L = 19.16767227150571\n",
      "iteration = 300, L = 18.5665041362658\n",
      "iteration = 310, L = 18.00290478250899\n",
      "iteration = 320, L = 17.47346020792719\n",
      "iteration = 330, L = 16.975157970827116\n",
      "iteration = 340, L = 16.505329831623495\n",
      "iteration = 350, L = 16.061603953268325\n",
      "iteration = 360, L = 15.64186485227827\n",
      "iteration = 370, L = 15.244219672706121\n",
      "iteration = 380, L = 14.866969648248826\n",
      "iteration = 390, L = 14.508585844630286\n",
      "iteration = 400, L = 14.167688451534447\n",
      "iteration = 410, L = 13.843029032539873\n",
      "iteration = 420, L = 13.533475251557432\n",
      "iteration = 430, L = 13.237997681810738\n",
      "iteration = 440, L = 12.955658373434119\n",
      "iteration = 450, L = 12.685600912092822\n",
      "iteration = 460, L = 12.427041746573886\n",
      "iteration = 470, L = 12.179262600307023\n",
      "iteration = 480, L = 11.941603811977721\n",
      "iteration = 490, L = 11.71345847517188\n",
      "iteration = 500, L = 11.494267267389173\n",
      "iteration = 510, L = 11.283513875633698\n",
      "iteration = 520, L = 11.080720939794837\n",
      "iteration = 530, L = 10.885446446703341\n",
      "iteration = 540, L = 10.69728051750883\n",
      "iteration = 550, L = 10.515842539219054\n",
      "iteration = 560, L = 10.340778598137499\n",
      "iteration = 570, L = 10.171759178767275\n",
      "iteration = 580, L = 10.008477096690969\n",
      "iteration = 590, L = 9.850645638127052\n",
      "iteration = 600, L = 9.697996882452754\n",
      "iteration = 610, L = 9.550280187035602\n",
      "iteration = 620, L = 9.407260816342204\n",
      "iteration = 630, L = 9.268718699545095\n",
      "iteration = 640, L = 9.134447302792157\n",
      "iteration = 650, L = 9.004252603976816\n",
      "iteration = 660, L = 8.877952159303591\n",
      "iteration = 670, L = 8.755374252198775\n",
      "iteration = 680, L = 8.636357116214555\n",
      "iteration = 690, L = 8.520748224527617\n",
      "iteration = 700, L = 8.408403639467938\n",
      "iteration = 710, L = 8.299187416241784\n",
      "iteration = 720, L = 8.192971055652848\n",
      "iteration = 730, L = 8.089633001188654\n",
      "iteration = 740, L = 7.989058176329582\n",
      "iteration = 750, L = 7.891137558378998\n",
      "iteration = 760, L = 7.7957677854926315\n",
      "iteration = 770, L = 7.702850793930037\n",
      "iteration = 780, L = 7.612293482849575\n",
      "iteration = 790, L = 7.524007404237692\n",
      "iteration = 800, L = 7.4379084758004606\n",
      "iteration = 810, L = 7.3539167148580304\n",
      "iteration = 820, L = 7.271955991470163\n",
      "iteration = 830, L = 7.191953799191973\n",
      "iteration = 840, L = 7.113841042006127\n",
      "iteration = 850, L = 7.0375518361170775\n",
      "iteration = 860, L = 6.96302332541068\n",
      "iteration = 870, L = 6.890195509492638\n",
      "iteration = 880, L = 6.819011083316569\n",
      "iteration = 890, L = 6.749415287500595\n",
      "iteration = 900, L = 6.681355768510155\n",
      "iteration = 910, L = 6.614782447956896\n",
      "iteration = 920, L = 6.549647400327498\n",
      "iteration = 930, L = 6.4859047385140185\n",
      "iteration = 940, L = 6.423510506573213\n",
      "iteration = 950, L = 6.362422579184202\n",
      "iteration = 960, L = 6.302600567325949\n",
      "iteration = 970, L = 6.2440057297252585\n",
      "iteration = 980, L = 6.186600889671714\n",
      "iteration = 990, L = 6.130350356821373\n",
      "Misclassification error for train data is 0.0, and for test data is 0.025000000000000022\n"
     ]
    }
   ],
   "source": [
    "import LogitFunctions as logit\n",
    "\n",
    "L, W = logit.logit_algorithm(x,y,0.3,0.0001,1000)\n",
    "error = logit.y_predict(y,x,W)\n",
    "error_test = logit.y_predict(ytest,xtest,W)\n",
    "\n",
    "print(\"Misclassification error for train data is {}, and for test data is {}\".format(error, error_test))"
   ]
  },
  {
   "cell_type": "code",
   "execution_count": 24,
   "id": "847e6f4e",
   "metadata": {},
   "outputs": [
    {
     "data": {
      "image/png": "[encoded data removed]",
      "text/plain": [
       "<Figure size 432x288 with 1 Axes>"
      ]
     },
     "metadata": {
      "needs_background": "light"
     },
     "output_type": "display_data"
    }
   ],
   "source": [
    "#preparing the iteration to look good as X label for the plot (from 1 to 300)\n",
    "it=list(range(1,(1000+1)))\n",
    "#preparing to plot\n",
    "fig, ax = plt.subplots()\n",
    "ax.autoscale()\n",
    "plt.title(\"Log-likelihood at each iteration - 0.3 Learning Rate\")\n",
    "plt.xlabel(\"Iteration number\")\n",
    "plt.ylabel(\"-1(Log-likelihood)\")\n",
    "plt.plot(it,L)\n",
    "#ploting here in the notebook\n",
    "plt.show()\n",
    "#saving the plot to a .jpeg file\n",
    "fig.savefig(\"plot2.jpeg\")"
   ]
  }
 ],
 "metadata": {
  "kernelspec": {
   "display_name": "Python 3 (ipykernel)",
   "language": "python",
   "name": "python3"
  },
  "language_info": {
   "codemirror_mode": {
    "name": "ipython",
    "version": 3
   },
   "file_extension": ".py",
   "mimetype": "text/x-python",
   "name": "python",
   "nbconvert_exporter": "python",
   "pygments_lexer": "ipython3",
   "version": "3.8.2"
  }
 },
 "nbformat": 4,
 "nbformat_minor": 5
}
